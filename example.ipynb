{
 "cells": [
  {
   "cell_type": "code",
   "execution_count": 1,
   "metadata": {},
   "outputs": [],
   "source": [
    "import matplotlib.pyplot as plt\n",
    "import pandas as pd\n",
    "\n",
    "from matplotlib.ticker import AutoMinorLocator\n",
    "\n",
    "from IPython.display import display\n",
    "%matplotlib inline"
   ]
  },
  {
   "cell_type": "code",
   "execution_count": 2,
   "metadata": {},
   "outputs": [],
   "source": [
    "# this example only implements visualization for data from one city\n",
    "city = 'shanghai'"
   ]
  },
  {
   "cell_type": "code",
   "execution_count": 3,
   "metadata": {},
   "outputs": [],
   "source": [
    "def visualize(df, axis_scale='log'):\n",
    "    \n",
    "    pltfig, pltax = plt.subplots(1,1)\n",
    "    \n",
    "    # adjust scale\n",
    "    if axis_scale == 'log':\n",
    "        pltax.set_aspect('equal','box')\n",
    "    elif axis_scale == 'lin':\n",
    "        pltax.xaxis.set_minor_locator(AutoMinorLocator())\n",
    "        pltax.yaxis.set_minor_locator(AutoMinorLocator())\n",
    "\n",
    "    # smoothed daily data (7-day averaged)\n",
    "    plt_7avg, = {'lin':pltax.plot, 'log':pltax.loglog}[axis_scale](\n",
    "        df['acc_cases'], df['cases_7dma'], label='7-day avg'\n",
    "    )\n",
    "    \n",
    "    # raw daily data (non-smoothed)\n",
    "    plt_daily, = pltax.plot(\n",
    "        df['acc_cases'], df['daily_cases'], label='daily',\n",
    "        linestyle=':', linewidth=0.5, alpha=0.5,\n",
    "        marker='.', markersize=3, markeredgewidth=0\n",
    "    )\n",
    "           \n",
    "    now = df.iloc[-1]\n",
    "    pltax.text(\n",
    "        now['acc_cases'],now['cases_7dma'],\n",
    "        f\"{city_names[c][LANG_TYPE]}\\n{now['daily_cases']}\\n{now['date']}\",\n",
    "        color=CITY_COLOR[ci], **LABEL_STYLE[c])\n",
    "        \n",
    "    pltax.grid(True, which='major', linestyle='-', linewidth=0.75)\n",
    "    pltax.grid(True, which='minor', linestyle=':', linewidth=0.5)\n",
    "\n",
    "    pltax.set_xlabel('accumulated')\n",
    "    pltax.set_ylabel('daily')\n",
    "\n",
    "    pltax.spines['top'].set_visible(False)\n",
    "    pltax.spines['right'].set_visible(False)\n",
    "    \n",
    "    pltax.legend(handles=[plt_7avg, plt_daily])\n",
    "    \n",
    "    return pltfig"
   ]
  },
  {
   "cell_type": "code",
   "execution_count": 4,
   "metadata": {},
   "outputs": [],
   "source": [
    "# # Local version\n",
    "# df = pd.read_pickle(f'data/{city}.pkl')\n",
    "\n",
    "# GitHub version\n",
    "df = pd.read_csv(f'data/{city}.csv')"
   ]
  },
  {
   "cell_type": "code",
   "execution_count": 5,
   "metadata": {},
   "outputs": [],
   "source": [
    "plt_log = visualize(df, axis_scale='log')"
   ]
  },
  {
   "cell_type": "code",
   "execution_count": 6,
   "metadata": {},
   "outputs": [],
   "source": [
    "plt_lin = visualize(df, axis_scale='lin')"
   ]
  }
 ],
 "metadata": {
  "kernelspec": {
   "display_name": "Python 3",
   "language": "python",
   "name": "python3"
  },
  "language_info": {
   "codemirror_mode": {
    "name": "ipython",
    "version": 3
   },
   "file_extension": ".py",
   "mimetype": "text/x-python",
   "name": "python",
   "nbconvert_exporter": "python",
   "pygments_lexer": "ipython3",
   "version": "3.8.5"
  }
 },
 "nbformat": 4,
 "nbformat_minor": 2
}
